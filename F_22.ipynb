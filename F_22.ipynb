{
  "nbformat": 4,
  "nbformat_minor": 0,
  "metadata": {
    "colab": {
      "name": "F#22.ipynb",
      "provenance": [],
      "include_colab_link": true
    },
    "kernelspec": {
      "name": "python3",
      "display_name": "Python 3"
    }
  },
  "cells": [
    {
      "cell_type": "markdown",
      "metadata": {
        "id": "view-in-github",
        "colab_type": "text"
      },
      "source": [
        "<a href=\"https://colab.research.google.com/github/MalekBEKRI97/ComponentEditor/blob/master/F_22.ipynb\" target=\"_parent\"><img src=\"https://colab.research.google.com/assets/colab-badge.svg\" alt=\"Open In Colab\"/></a>"
      ]
    },
    {
      "cell_type": "markdown",
      "metadata": {
        "id": "sEMWro3hlTXx"
      },
      "source": [
        "# Part 1: Data"
      ]
    },
    {
      "cell_type": "markdown",
      "metadata": {
        "id": "fsQ30m8LmDb1"
      },
      "source": [
        "### Importing Libraries"
      ]
    },
    {
      "cell_type": "code",
      "metadata": {
        "id": "cFOrJx9ymCoR"
      },
      "source": [
        "import pandas"
      ],
      "execution_count": null,
      "outputs": []
    },
    {
      "cell_type": "markdown",
      "metadata": {
        "id": "jKqlcg96lz_d"
      },
      "source": [
        "### Data Loading"
      ]
    },
    {
      "cell_type": "code",
      "metadata": {
        "id": "w2vZMLZ7qBIq"
      },
      "source": [
        "# if the fil is on Colab\r\n",
        "dataset = pandas.read_csv('pokedex.csv')"
      ],
      "execution_count": null,
      "outputs": []
    },
    {
      "cell_type": "code",
      "metadata": {
        "id": "koWIcXhGlZ0Y"
      },
      "source": [
        "# if the file is online somewhere as a csv\r\n",
        "dataset = pandas.read_csv('https://raw.githubusercontent.com/elyesmanai/Datasets-for-ML-trainings/main/pokedex_(Update_05.20).csv')"
      ],
      "execution_count": null,
      "outputs": []
    },
    {
      "cell_type": "code",
      "metadata": {
        "id": "g6yPWDbOqtzo"
      },
      "source": [
        "#pandas.read_...\r\n",
        "#badel les ... ib wa7da min hedhouma: csv, json, html, pickle etc..."
      ],
      "execution_count": null,
      "outputs": []
    },
    {
      "cell_type": "markdown",
      "metadata": {
        "id": "LiOlS41Il3l8"
      },
      "source": [
        "### Exploratory Data Analysis (EDA)"
      ]
    },
    {
      "cell_type": "code",
      "metadata": {
        "id": "In-H3IfkraFH"
      },
      "source": [
        "# fi wist dataframe, najmou na3rfou 7ajtin:\r\n",
        "# Attribut li howa une information deja mawjouda\r\n",
        "# Fonction ti7siblna 7aja"
      ],
      "execution_count": null,
      "outputs": []
    },
    {
      "cell_type": "code",
      "metadata": {
        "colab": {
          "base_uri": "https://localhost:8080/"
        },
        "id": "9YkUdhx-mSBV",
        "outputId": "ff70a3cf-1fba-4be2-c71f-1535de92f6e4"
      },
      "source": [
        "dataset.shape #number of rows and columns"
      ],
      "execution_count": null,
      "outputs": [
        {
          "output_type": "execute_result",
          "data": {
            "text/plain": [
              "(1028, 51)"
            ]
          },
          "metadata": {
            "tags": []
          },
          "execution_count": 17
        }
      ]
    },
    {
      "cell_type": "code",
      "metadata": {
        "colab": {
          "base_uri": "https://localhost:8080/"
        },
        "id": "9-lbpmKJmv-y",
        "outputId": "11a0b161-524f-496e-90b9-88098af61214"
      },
      "source": [
        "dataset.columns # names of columns"
      ],
      "execution_count": null,
      "outputs": [
        {
          "output_type": "execute_result",
          "data": {
            "text/plain": [
              "Index(['Unnamed: 0', 'pokedex_number', 'name', 'german_name', 'japanese_name',\n",
              "       'generation', 'status', 'species', 'type_number', 'type_1', 'type_2',\n",
              "       'height_m', 'weight_kg', 'abilities_number', 'ability_1', 'ability_2',\n",
              "       'ability_hidden', 'total_points', 'hp', 'attack', 'defense',\n",
              "       'sp_attack', 'sp_defense', 'speed', 'catch_rate', 'base_friendship',\n",
              "       'base_experience', 'growth_rate', 'egg_type_number', 'egg_type_1',\n",
              "       'egg_type_2', 'percentage_male', 'egg_cycles', 'against_normal',\n",
              "       'against_fire', 'against_water', 'against_electric', 'against_grass',\n",
              "       'against_ice', 'against_fight', 'against_poison', 'against_ground',\n",
              "       'against_flying', 'against_psychic', 'against_bug', 'against_rock',\n",
              "       'against_ghost', 'against_dragon', 'against_dark', 'against_steel',\n",
              "       'against_fairy'],\n",
              "      dtype='object')"
            ]
          },
          "metadata": {
            "tags": []
          },
          "execution_count": 29
        }
      ]
    },
    {
      "cell_type": "code",
      "metadata": {
        "colab": {
          "base_uri": "https://localhost:8080/",
          "height": 133
        },
        "id": "4-97xXP0m9aw",
        "outputId": "52ae987f-800b-42ca-aa00-4b8b1700b9c8"
      },
      "source": [
        "dataset.head() # first rows (5 by default)\r\n",
        "dataset.tail() # last rows (5 by default)\r\n",
        "dataset.sample() # random rows (1 by default)"
      ],
      "execution_count": null,
      "outputs": [
        {
          "output_type": "execute_result",
          "data": {
            "text/html": [
              "<div>\n",
              "<style scoped>\n",
              "    .dataframe tbody tr th:only-of-type {\n",
              "        vertical-align: middle;\n",
              "    }\n",
              "\n",
              "    .dataframe tbody tr th {\n",
              "        vertical-align: top;\n",
              "    }\n",
              "\n",
              "    .dataframe thead th {\n",
              "        text-align: right;\n",
              "    }\n",
              "</style>\n",
              "<table border=\"1\" class=\"dataframe\">\n",
              "  <thead>\n",
              "    <tr style=\"text-align: right;\">\n",
              "      <th></th>\n",
              "      <th>Unnamed: 0</th>\n",
              "      <th>pokedex_number</th>\n",
              "      <th>name</th>\n",
              "      <th>german_name</th>\n",
              "      <th>japanese_name</th>\n",
              "      <th>generation</th>\n",
              "      <th>status</th>\n",
              "      <th>species</th>\n",
              "      <th>type_number</th>\n",
              "      <th>type_1</th>\n",
              "      <th>type_2</th>\n",
              "      <th>height_m</th>\n",
              "      <th>weight_kg</th>\n",
              "      <th>abilities_number</th>\n",
              "      <th>ability_1</th>\n",
              "      <th>ability_2</th>\n",
              "      <th>ability_hidden</th>\n",
              "      <th>total_points</th>\n",
              "      <th>hp</th>\n",
              "      <th>attack</th>\n",
              "      <th>defense</th>\n",
              "      <th>sp_attack</th>\n",
              "      <th>sp_defense</th>\n",
              "      <th>speed</th>\n",
              "      <th>catch_rate</th>\n",
              "      <th>base_friendship</th>\n",
              "      <th>base_experience</th>\n",
              "      <th>growth_rate</th>\n",
              "      <th>egg_type_number</th>\n",
              "      <th>egg_type_1</th>\n",
              "      <th>egg_type_2</th>\n",
              "      <th>percentage_male</th>\n",
              "      <th>egg_cycles</th>\n",
              "      <th>against_normal</th>\n",
              "      <th>against_fire</th>\n",
              "      <th>against_water</th>\n",
              "      <th>against_electric</th>\n",
              "      <th>against_grass</th>\n",
              "      <th>against_ice</th>\n",
              "      <th>against_fight</th>\n",
              "      <th>against_poison</th>\n",
              "      <th>against_ground</th>\n",
              "      <th>against_flying</th>\n",
              "      <th>against_psychic</th>\n",
              "      <th>against_bug</th>\n",
              "      <th>against_rock</th>\n",
              "      <th>against_ghost</th>\n",
              "      <th>against_dragon</th>\n",
              "      <th>against_dark</th>\n",
              "      <th>against_steel</th>\n",
              "      <th>against_fairy</th>\n",
              "    </tr>\n",
              "  </thead>\n",
              "  <tbody>\n",
              "    <tr>\n",
              "      <th>227</th>\n",
              "      <td>227</td>\n",
              "      <td>186</td>\n",
              "      <td>Politoed</td>\n",
              "      <td>Quaxo</td>\n",
              "      <td>ニョロトノ (Nyorotono)</td>\n",
              "      <td>2</td>\n",
              "      <td>Normal</td>\n",
              "      <td>Frog Pokémon</td>\n",
              "      <td>1</td>\n",
              "      <td>Water</td>\n",
              "      <td>NaN</td>\n",
              "      <td>1.1</td>\n",
              "      <td>33.9</td>\n",
              "      <td>3</td>\n",
              "      <td>Water Absorb</td>\n",
              "      <td>Damp</td>\n",
              "      <td>Drizzle</td>\n",
              "      <td>500.0</td>\n",
              "      <td>90.0</td>\n",
              "      <td>75.0</td>\n",
              "      <td>75.0</td>\n",
              "      <td>90.0</td>\n",
              "      <td>100.0</td>\n",
              "      <td>70.0</td>\n",
              "      <td>45.0</td>\n",
              "      <td>70.0</td>\n",
              "      <td>225.0</td>\n",
              "      <td>Medium Slow</td>\n",
              "      <td>1</td>\n",
              "      <td>Water 1</td>\n",
              "      <td>NaN</td>\n",
              "      <td>50.0</td>\n",
              "      <td>20.0</td>\n",
              "      <td>1.0</td>\n",
              "      <td>0.5</td>\n",
              "      <td>0.0</td>\n",
              "      <td>2.0</td>\n",
              "      <td>2.0</td>\n",
              "      <td>0.5</td>\n",
              "      <td>1.0</td>\n",
              "      <td>1.0</td>\n",
              "      <td>1.0</td>\n",
              "      <td>1.0</td>\n",
              "      <td>1.0</td>\n",
              "      <td>1.0</td>\n",
              "      <td>1.0</td>\n",
              "      <td>1.0</td>\n",
              "      <td>1.0</td>\n",
              "      <td>1.0</td>\n",
              "      <td>0.5</td>\n",
              "      <td>1.0</td>\n",
              "    </tr>\n",
              "  </tbody>\n",
              "</table>\n",
              "</div>"
            ],
            "text/plain": [
              "     Unnamed: 0  pokedex_number  ... against_steel against_fairy\n",
              "227         227             186  ...           0.5           1.0\n",
              "\n",
              "[1 rows x 51 columns]"
            ]
          },
          "metadata": {
            "tags": []
          },
          "execution_count": 33
        }
      ]
    },
    {
      "cell_type": "code",
      "metadata": {
        "colab": {
          "base_uri": "https://localhost:8080/"
        },
        "id": "grK5piWIpSEm",
        "outputId": "71fa7133-c18b-4e3f-c531-711c95b687d1"
      },
      "source": [
        "dataset.info() \r\n",
        "# many columns have missing data\r\n",
        "# all columns are correctly typed\r\n",
        "# memory size is good"
      ],
      "execution_count": null,
      "outputs": [
        {
          "output_type": "stream",
          "text": [
            "<class 'pandas.core.frame.DataFrame'>\n",
            "RangeIndex: 1028 entries, 0 to 1027\n",
            "Data columns (total 51 columns):\n",
            " #   Column            Non-Null Count  Dtype  \n",
            "---  ------            --------------  -----  \n",
            " 0   Unnamed: 0        1028 non-null   int64  \n",
            " 1   pokedex_number    1028 non-null   int64  \n",
            " 2   name              1028 non-null   object \n",
            " 3   german_name       938 non-null    object \n",
            " 4   japanese_name     938 non-null    object \n",
            " 5   generation        1028 non-null   uint8  \n",
            " 6   status            1028 non-null   object \n",
            " 7   species           1028 non-null   object \n",
            " 8   type_number       1028 non-null   int64  \n",
            " 9   type_1            1028 non-null   object \n",
            " 10  type_2            542 non-null    object \n",
            " 11  height_m          1028 non-null   float64\n",
            " 12  weight_kg         1027 non-null   float64\n",
            " 13  abilities_number  1028 non-null   int64  \n",
            " 14  ability_1         1025 non-null   object \n",
            " 15  ability_2         513 non-null    object \n",
            " 16  ability_hidden    810 non-null    object \n",
            " 17  total_points      1028 non-null   float64\n",
            " 18  hp                1028 non-null   float64\n",
            " 19  attack            1028 non-null   float64\n",
            " 20  defense           1028 non-null   float64\n",
            " 21  sp_attack         1028 non-null   float64\n",
            " 22  sp_defense        1028 non-null   float64\n",
            " 23  speed             1028 non-null   float64\n",
            " 24  catch_rate        924 non-null    float64\n",
            " 25  base_friendship   924 non-null    float64\n",
            " 26  base_experience   924 non-null    float64\n",
            " 27  growth_rate       1027 non-null   object \n",
            " 28  egg_type_number   1028 non-null   int64  \n",
            " 29  egg_type_1        1025 non-null   object \n",
            " 30  egg_type_2        282 non-null    object \n",
            " 31  percentage_male   792 non-null    float64\n",
            " 32  egg_cycles        1027 non-null   float64\n",
            " 33  against_normal    1028 non-null   float64\n",
            " 34  against_fire      1028 non-null   float64\n",
            " 35  against_water     1028 non-null   float64\n",
            " 36  against_electric  1028 non-null   float64\n",
            " 37  against_grass     1028 non-null   float64\n",
            " 38  against_ice       1028 non-null   float64\n",
            " 39  against_fight     1028 non-null   float64\n",
            " 40  against_poison    1028 non-null   float64\n",
            " 41  against_ground    1028 non-null   float64\n",
            " 42  against_flying    1028 non-null   float64\n",
            " 43  against_psychic   1028 non-null   float64\n",
            " 44  against_bug       1028 non-null   float64\n",
            " 45  against_rock      1028 non-null   float64\n",
            " 46  against_ghost     1028 non-null   float64\n",
            " 47  against_dragon    1028 non-null   float64\n",
            " 48  against_dark      1028 non-null   float64\n",
            " 49  against_steel     1028 non-null   float64\n",
            " 50  against_fairy     1028 non-null   float64\n",
            "dtypes: float64(32), int64(5), object(13), uint8(1)\n",
            "memory usage: 402.7+ KB\n"
          ],
          "name": "stdout"
        }
      ]
    },
    {
      "cell_type": "code",
      "metadata": {
        "colab": {
          "base_uri": "https://localhost:8080/"
        },
        "id": "E1L4VdqiqkDx",
        "outputId": "016ba097-e74c-42b4-aa28-0016019ec37d"
      },
      "source": [
        "# generation has 8 unique values > 0 --> cast to unit8\r\n",
        "dataset['generation'].unique()"
      ],
      "execution_count": null,
      "outputs": [
        {
          "output_type": "execute_result",
          "data": {
            "text/plain": [
              "array([1, 2, 3, 4, 5, 6, 7, 8])"
            ]
          },
          "metadata": {
            "tags": []
          },
          "execution_count": 35
        }
      ]
    },
    {
      "cell_type": "code",
      "metadata": {
        "id": "d63nApoEq4Xr"
      },
      "source": [
        "#casting generatin to uint8\r\n",
        "dataset['generation'] = dataset['generation'].astype(\"uint8\")"
      ],
      "execution_count": null,
      "outputs": []
    },
    {
      "cell_type": "code",
      "metadata": {
        "colab": {
          "base_uri": "https://localhost:8080/",
          "height": 316
        },
        "id": "cCKQpMvcr-jZ",
        "outputId": "e5f1a9e8-431e-4f43-85dd-8b6ce84b2dcd"
      },
      "source": [
        "dataset.describe() #possibility of outlier in height_m and weight_kg"
      ],
      "execution_count": null,
      "outputs": [
        {
          "output_type": "execute_result",
          "data": {
            "text/html": [
              "<div>\n",
              "<style scoped>\n",
              "    .dataframe tbody tr th:only-of-type {\n",
              "        vertical-align: middle;\n",
              "    }\n",
              "\n",
              "    .dataframe tbody tr th {\n",
              "        vertical-align: top;\n",
              "    }\n",
              "\n",
              "    .dataframe thead th {\n",
              "        text-align: right;\n",
              "    }\n",
              "</style>\n",
              "<table border=\"1\" class=\"dataframe\">\n",
              "  <thead>\n",
              "    <tr style=\"text-align: right;\">\n",
              "      <th></th>\n",
              "      <th>Unnamed: 0</th>\n",
              "      <th>pokedex_number</th>\n",
              "      <th>generation</th>\n",
              "      <th>type_number</th>\n",
              "      <th>height_m</th>\n",
              "      <th>weight_kg</th>\n",
              "      <th>abilities_number</th>\n",
              "      <th>total_points</th>\n",
              "      <th>hp</th>\n",
              "      <th>attack</th>\n",
              "      <th>defense</th>\n",
              "      <th>sp_attack</th>\n",
              "      <th>sp_defense</th>\n",
              "      <th>speed</th>\n",
              "      <th>catch_rate</th>\n",
              "      <th>base_friendship</th>\n",
              "      <th>base_experience</th>\n",
              "      <th>egg_type_number</th>\n",
              "      <th>percentage_male</th>\n",
              "      <th>egg_cycles</th>\n",
              "      <th>against_normal</th>\n",
              "      <th>against_fire</th>\n",
              "      <th>against_water</th>\n",
              "      <th>against_electric</th>\n",
              "      <th>against_grass</th>\n",
              "      <th>against_ice</th>\n",
              "      <th>against_fight</th>\n",
              "      <th>against_poison</th>\n",
              "      <th>against_ground</th>\n",
              "      <th>against_flying</th>\n",
              "      <th>against_psychic</th>\n",
              "      <th>against_bug</th>\n",
              "      <th>against_rock</th>\n",
              "      <th>against_ghost</th>\n",
              "      <th>against_dragon</th>\n",
              "      <th>against_dark</th>\n",
              "      <th>against_steel</th>\n",
              "      <th>against_fairy</th>\n",
              "    </tr>\n",
              "  </thead>\n",
              "  <tbody>\n",
              "    <tr>\n",
              "      <th>count</th>\n",
              "      <td>1028.000000</td>\n",
              "      <td>1028.000000</td>\n",
              "      <td>1028.000000</td>\n",
              "      <td>1028.000000</td>\n",
              "      <td>1028.000000</td>\n",
              "      <td>1027.000000</td>\n",
              "      <td>1028.000000</td>\n",
              "      <td>1028.000000</td>\n",
              "      <td>1028.000000</td>\n",
              "      <td>1028.000000</td>\n",
              "      <td>1028.000000</td>\n",
              "      <td>1028.000000</td>\n",
              "      <td>1028.000000</td>\n",
              "      <td>1028.000000</td>\n",
              "      <td>924.000000</td>\n",
              "      <td>924.000000</td>\n",
              "      <td>924.000000</td>\n",
              "      <td>1028.000000</td>\n",
              "      <td>792.000000</td>\n",
              "      <td>1027.000000</td>\n",
              "      <td>1028.000000</td>\n",
              "      <td>1028.000000</td>\n",
              "      <td>1028.000000</td>\n",
              "      <td>1028.000000</td>\n",
              "      <td>1028.000000</td>\n",
              "      <td>1028.000000</td>\n",
              "      <td>1028.000000</td>\n",
              "      <td>1028.000000</td>\n",
              "      <td>1028.000000</td>\n",
              "      <td>1028.000000</td>\n",
              "      <td>1028.000000</td>\n",
              "      <td>1028.000000</td>\n",
              "      <td>1028.000000</td>\n",
              "      <td>1028.000000</td>\n",
              "      <td>1028.000000</td>\n",
              "      <td>1028.000000</td>\n",
              "      <td>1028.000000</td>\n",
              "      <td>1028.000000</td>\n",
              "    </tr>\n",
              "    <tr>\n",
              "      <th>mean</th>\n",
              "      <td>513.500000</td>\n",
              "      <td>437.711089</td>\n",
              "      <td>4.034047</td>\n",
              "      <td>1.527237</td>\n",
              "      <td>1.368093</td>\n",
              "      <td>69.753749</td>\n",
              "      <td>2.284047</td>\n",
              "      <td>437.571984</td>\n",
              "      <td>69.577821</td>\n",
              "      <td>80.119650</td>\n",
              "      <td>74.475681</td>\n",
              "      <td>72.732490</td>\n",
              "      <td>72.132296</td>\n",
              "      <td>68.534047</td>\n",
              "      <td>93.172078</td>\n",
              "      <td>64.139610</td>\n",
              "      <td>153.814935</td>\n",
              "      <td>1.271401</td>\n",
              "      <td>55.003157</td>\n",
              "      <td>30.316456</td>\n",
              "      <td>0.868434</td>\n",
              "      <td>1.125486</td>\n",
              "      <td>1.053502</td>\n",
              "      <td>1.034290</td>\n",
              "      <td>1.004134</td>\n",
              "      <td>1.196498</td>\n",
              "      <td>1.078794</td>\n",
              "      <td>0.952335</td>\n",
              "      <td>1.084630</td>\n",
              "      <td>1.166342</td>\n",
              "      <td>0.979329</td>\n",
              "      <td>0.992461</td>\n",
              "      <td>1.239786</td>\n",
              "      <td>1.010700</td>\n",
              "      <td>0.975681</td>\n",
              "      <td>1.065661</td>\n",
              "      <td>0.980302</td>\n",
              "      <td>1.084874</td>\n",
              "    </tr>\n",
              "    <tr>\n",
              "      <th>std</th>\n",
              "      <td>296.902341</td>\n",
              "      <td>259.366480</td>\n",
              "      <td>2.234937</td>\n",
              "      <td>0.499501</td>\n",
              "      <td>3.380126</td>\n",
              "      <td>129.221230</td>\n",
              "      <td>0.794981</td>\n",
              "      <td>121.664910</td>\n",
              "      <td>26.385849</td>\n",
              "      <td>32.372321</td>\n",
              "      <td>31.303309</td>\n",
              "      <td>32.677698</td>\n",
              "      <td>28.083684</td>\n",
              "      <td>29.802103</td>\n",
              "      <td>75.240630</td>\n",
              "      <td>21.455464</td>\n",
              "      <td>79.270628</td>\n",
              "      <td>0.451417</td>\n",
              "      <td>20.182675</td>\n",
              "      <td>28.942912</td>\n",
              "      <td>0.286236</td>\n",
              "      <td>0.717742</td>\n",
              "      <td>0.613411</td>\n",
              "      <td>0.645167</td>\n",
              "      <td>0.748527</td>\n",
              "      <td>0.759471</td>\n",
              "      <td>0.754969</td>\n",
              "      <td>0.542982</td>\n",
              "      <td>0.784937</td>\n",
              "      <td>0.593030</td>\n",
              "      <td>0.499146</td>\n",
              "      <td>0.598301</td>\n",
              "      <td>0.699156</td>\n",
              "      <td>0.558533</td>\n",
              "      <td>0.377549</td>\n",
              "      <td>0.451054</td>\n",
              "      <td>0.503434</td>\n",
              "      <td>0.527743</td>\n",
              "    </tr>\n",
              "    <tr>\n",
              "      <th>min</th>\n",
              "      <td>0.000000</td>\n",
              "      <td>1.000000</td>\n",
              "      <td>1.000000</td>\n",
              "      <td>1.000000</td>\n",
              "      <td>0.100000</td>\n",
              "      <td>0.100000</td>\n",
              "      <td>0.000000</td>\n",
              "      <td>175.000000</td>\n",
              "      <td>1.000000</td>\n",
              "      <td>5.000000</td>\n",
              "      <td>5.000000</td>\n",
              "      <td>10.000000</td>\n",
              "      <td>20.000000</td>\n",
              "      <td>5.000000</td>\n",
              "      <td>3.000000</td>\n",
              "      <td>0.000000</td>\n",
              "      <td>36.000000</td>\n",
              "      <td>0.000000</td>\n",
              "      <td>0.000000</td>\n",
              "      <td>5.000000</td>\n",
              "      <td>0.000000</td>\n",
              "      <td>0.000000</td>\n",
              "      <td>0.000000</td>\n",
              "      <td>0.000000</td>\n",
              "      <td>0.000000</td>\n",
              "      <td>0.000000</td>\n",
              "      <td>0.000000</td>\n",
              "      <td>0.000000</td>\n",
              "      <td>0.000000</td>\n",
              "      <td>0.250000</td>\n",
              "      <td>0.000000</td>\n",
              "      <td>0.000000</td>\n",
              "      <td>0.250000</td>\n",
              "      <td>0.000000</td>\n",
              "      <td>0.000000</td>\n",
              "      <td>0.250000</td>\n",
              "      <td>0.000000</td>\n",
              "      <td>0.000000</td>\n",
              "    </tr>\n",
              "    <tr>\n",
              "      <th>25%</th>\n",
              "      <td>256.750000</td>\n",
              "      <td>213.750000</td>\n",
              "      <td>2.000000</td>\n",
              "      <td>1.000000</td>\n",
              "      <td>0.600000</td>\n",
              "      <td>8.800000</td>\n",
              "      <td>2.000000</td>\n",
              "      <td>330.000000</td>\n",
              "      <td>50.000000</td>\n",
              "      <td>55.000000</td>\n",
              "      <td>50.000000</td>\n",
              "      <td>50.000000</td>\n",
              "      <td>50.000000</td>\n",
              "      <td>45.000000</td>\n",
              "      <td>45.000000</td>\n",
              "      <td>70.000000</td>\n",
              "      <td>67.000000</td>\n",
              "      <td>1.000000</td>\n",
              "      <td>50.000000</td>\n",
              "      <td>20.000000</td>\n",
              "      <td>1.000000</td>\n",
              "      <td>0.500000</td>\n",
              "      <td>0.500000</td>\n",
              "      <td>0.500000</td>\n",
              "      <td>0.500000</td>\n",
              "      <td>0.500000</td>\n",
              "      <td>0.500000</td>\n",
              "      <td>0.500000</td>\n",
              "      <td>0.500000</td>\n",
              "      <td>1.000000</td>\n",
              "      <td>1.000000</td>\n",
              "      <td>0.500000</td>\n",
              "      <td>1.000000</td>\n",
              "      <td>1.000000</td>\n",
              "      <td>1.000000</td>\n",
              "      <td>1.000000</td>\n",
              "      <td>0.500000</td>\n",
              "      <td>1.000000</td>\n",
              "    </tr>\n",
              "    <tr>\n",
              "      <th>50%</th>\n",
              "      <td>513.500000</td>\n",
              "      <td>433.500000</td>\n",
              "      <td>4.000000</td>\n",
              "      <td>2.000000</td>\n",
              "      <td>1.000000</td>\n",
              "      <td>28.500000</td>\n",
              "      <td>2.000000</td>\n",
              "      <td>455.000000</td>\n",
              "      <td>66.500000</td>\n",
              "      <td>76.000000</td>\n",
              "      <td>70.000000</td>\n",
              "      <td>65.000000</td>\n",
              "      <td>70.000000</td>\n",
              "      <td>65.000000</td>\n",
              "      <td>60.000000</td>\n",
              "      <td>70.000000</td>\n",
              "      <td>159.000000</td>\n",
              "      <td>1.000000</td>\n",
              "      <td>50.000000</td>\n",
              "      <td>20.000000</td>\n",
              "      <td>1.000000</td>\n",
              "      <td>1.000000</td>\n",
              "      <td>1.000000</td>\n",
              "      <td>1.000000</td>\n",
              "      <td>1.000000</td>\n",
              "      <td>1.000000</td>\n",
              "      <td>1.000000</td>\n",
              "      <td>1.000000</td>\n",
              "      <td>1.000000</td>\n",
              "      <td>1.000000</td>\n",
              "      <td>1.000000</td>\n",
              "      <td>1.000000</td>\n",
              "      <td>1.000000</td>\n",
              "      <td>1.000000</td>\n",
              "      <td>1.000000</td>\n",
              "      <td>1.000000</td>\n",
              "      <td>1.000000</td>\n",
              "      <td>1.000000</td>\n",
              "    </tr>\n",
              "    <tr>\n",
              "      <th>75%</th>\n",
              "      <td>770.250000</td>\n",
              "      <td>663.250000</td>\n",
              "      <td>6.000000</td>\n",
              "      <td>2.000000</td>\n",
              "      <td>1.500000</td>\n",
              "      <td>69.100000</td>\n",
              "      <td>3.000000</td>\n",
              "      <td>510.000000</td>\n",
              "      <td>80.000000</td>\n",
              "      <td>100.000000</td>\n",
              "      <td>90.000000</td>\n",
              "      <td>95.000000</td>\n",
              "      <td>90.000000</td>\n",
              "      <td>90.000000</td>\n",
              "      <td>127.000000</td>\n",
              "      <td>70.000000</td>\n",
              "      <td>201.500000</td>\n",
              "      <td>2.000000</td>\n",
              "      <td>50.000000</td>\n",
              "      <td>25.000000</td>\n",
              "      <td>1.000000</td>\n",
              "      <td>2.000000</td>\n",
              "      <td>1.000000</td>\n",
              "      <td>1.000000</td>\n",
              "      <td>1.000000</td>\n",
              "      <td>2.000000</td>\n",
              "      <td>2.000000</td>\n",
              "      <td>1.000000</td>\n",
              "      <td>1.625000</td>\n",
              "      <td>1.000000</td>\n",
              "      <td>1.000000</td>\n",
              "      <td>1.000000</td>\n",
              "      <td>2.000000</td>\n",
              "      <td>1.000000</td>\n",
              "      <td>1.000000</td>\n",
              "      <td>1.000000</td>\n",
              "      <td>1.000000</td>\n",
              "      <td>1.000000</td>\n",
              "    </tr>\n",
              "    <tr>\n",
              "      <th>max</th>\n",
              "      <td>1027.000000</td>\n",
              "      <td>890.000000</td>\n",
              "      <td>8.000000</td>\n",
              "      <td>2.000000</td>\n",
              "      <td>100.000000</td>\n",
              "      <td>999.900000</td>\n",
              "      <td>3.000000</td>\n",
              "      <td>1125.000000</td>\n",
              "      <td>255.000000</td>\n",
              "      <td>190.000000</td>\n",
              "      <td>250.000000</td>\n",
              "      <td>194.000000</td>\n",
              "      <td>250.000000</td>\n",
              "      <td>180.000000</td>\n",
              "      <td>255.000000</td>\n",
              "      <td>140.000000</td>\n",
              "      <td>608.000000</td>\n",
              "      <td>2.000000</td>\n",
              "      <td>100.000000</td>\n",
              "      <td>120.000000</td>\n",
              "      <td>1.000000</td>\n",
              "      <td>4.000000</td>\n",
              "      <td>4.000000</td>\n",
              "      <td>4.000000</td>\n",
              "      <td>4.000000</td>\n",
              "      <td>4.000000</td>\n",
              "      <td>4.000000</td>\n",
              "      <td>4.000000</td>\n",
              "      <td>4.000000</td>\n",
              "      <td>4.000000</td>\n",
              "      <td>4.000000</td>\n",
              "      <td>4.000000</td>\n",
              "      <td>4.000000</td>\n",
              "      <td>4.000000</td>\n",
              "      <td>2.000000</td>\n",
              "      <td>4.000000</td>\n",
              "      <td>4.000000</td>\n",
              "      <td>4.000000</td>\n",
              "    </tr>\n",
              "  </tbody>\n",
              "</table>\n",
              "</div>"
            ],
            "text/plain": [
              "        Unnamed: 0  pokedex_number  ...  against_steel  against_fairy\n",
              "count  1028.000000     1028.000000  ...    1028.000000    1028.000000\n",
              "mean    513.500000      437.711089  ...       0.980302       1.084874\n",
              "std     296.902341      259.366480  ...       0.503434       0.527743\n",
              "min       0.000000        1.000000  ...       0.000000       0.000000\n",
              "25%     256.750000      213.750000  ...       0.500000       1.000000\n",
              "50%     513.500000      433.500000  ...       1.000000       1.000000\n",
              "75%     770.250000      663.250000  ...       1.000000       1.000000\n",
              "max    1027.000000      890.000000  ...       4.000000       4.000000\n",
              "\n",
              "[8 rows x 38 columns]"
            ]
          },
          "metadata": {
            "tags": []
          },
          "execution_count": 44
        }
      ]
    },
    {
      "cell_type": "code",
      "metadata": {
        "id": "0TZARd8jtMya"
      },
      "source": [
        "type(dataset) # DataFrame\r\n",
        "type(dataset['height_m']) # Series\r\n",
        "type(dataset['height_m'].values) # array"
      ],
      "execution_count": null,
      "outputs": []
    },
    {
      "cell_type": "code",
      "metadata": {
        "colab": {
          "base_uri": "https://localhost:8080/",
          "height": 282
        },
        "id": "ITj7IlmutzOc",
        "outputId": "efcb5426-bc31-45e7-bf99-bddd980b15a9"
      },
      "source": [
        "dataset['height_m'].plot() \r\n",
        "# Outlier in height_m (100m)\r\n",
        "# weight: no outlier"
      ],
      "execution_count": null,
      "outputs": [
        {
          "output_type": "execute_result",
          "data": {
            "text/plain": [
              "<matplotlib.axes._subplots.AxesSubplot at 0x7efee8c95f10>"
            ]
          },
          "metadata": {
            "tags": []
          },
          "execution_count": 74
        },
        {
          "output_type": "display_data",
          "data": {
            "image/png": "[encoded data removed]",
            "text/plain": [
              "<Figure size 432x288 with 1 Axes>"
            ]
          },
          "metadata": {
            "tags": [],
            "needs_background": "light"
          }
        }
      ]
    },
    {
      "cell_type": "code",
      "metadata": {
        "colab": {
          "base_uri": "https://localhost:8080/",
          "height": 133
        },
        "id": "fnFSLr9DuUif",
        "outputId": "0de268e5-e576-4907-cdc5-5e0e469772a6"
      },
      "source": [
        "# Filtering (conditional selection)\r\n",
        "dataset[ dataset['height_m'] > 90 ]"
      ],
      "execution_count": null,
      "outputs": [
        {
          "output_type": "execute_result",
          "data": {
            "text/html": [
              "<div>\n",
              "<style scoped>\n",
              "    .dataframe tbody tr th:only-of-type {\n",
              "        vertical-align: middle;\n",
              "    }\n",
              "\n",
              "    .dataframe tbody tr th {\n",
              "        vertical-align: top;\n",
              "    }\n",
              "\n",
              "    .dataframe thead th {\n",
              "        text-align: right;\n",
              "    }\n",
              "</style>\n",
              "<table border=\"1\" class=\"dataframe\">\n",
              "  <thead>\n",
              "    <tr style=\"text-align: right;\">\n",
              "      <th></th>\n",
              "      <th>Unnamed: 0</th>\n",
              "      <th>pokedex_number</th>\n",
              "      <th>name</th>\n",
              "      <th>german_name</th>\n",
              "      <th>japanese_name</th>\n",
              "      <th>generation</th>\n",
              "      <th>status</th>\n",
              "      <th>species</th>\n",
              "      <th>type_number</th>\n",
              "      <th>type_1</th>\n",
              "      <th>type_2</th>\n",
              "      <th>height_m</th>\n",
              "      <th>weight_kg</th>\n",
              "      <th>abilities_number</th>\n",
              "      <th>ability_1</th>\n",
              "      <th>ability_2</th>\n",
              "      <th>ability_hidden</th>\n",
              "      <th>total_points</th>\n",
              "      <th>hp</th>\n",
              "      <th>attack</th>\n",
              "      <th>defense</th>\n",
              "      <th>sp_attack</th>\n",
              "      <th>sp_defense</th>\n",
              "      <th>speed</th>\n",
              "      <th>catch_rate</th>\n",
              "      <th>base_friendship</th>\n",
              "      <th>base_experience</th>\n",
              "      <th>growth_rate</th>\n",
              "      <th>egg_type_number</th>\n",
              "      <th>egg_type_1</th>\n",
              "      <th>egg_type_2</th>\n",
              "      <th>percentage_male</th>\n",
              "      <th>egg_cycles</th>\n",
              "      <th>against_normal</th>\n",
              "      <th>against_fire</th>\n",
              "      <th>against_water</th>\n",
              "      <th>against_electric</th>\n",
              "      <th>against_grass</th>\n",
              "      <th>against_ice</th>\n",
              "      <th>against_fight</th>\n",
              "      <th>against_poison</th>\n",
              "      <th>against_ground</th>\n",
              "      <th>against_flying</th>\n",
              "      <th>against_psychic</th>\n",
              "      <th>against_bug</th>\n",
              "      <th>against_rock</th>\n",
              "      <th>against_ghost</th>\n",
              "      <th>against_dragon</th>\n",
              "      <th>against_dark</th>\n",
              "      <th>against_steel</th>\n",
              "      <th>against_fairy</th>\n",
              "    </tr>\n",
              "  </thead>\n",
              "  <tbody>\n",
              "    <tr>\n",
              "      <th>1027</th>\n",
              "      <td>1027</td>\n",
              "      <td>890</td>\n",
              "      <td>Eternatus Eternamax</td>\n",
              "      <td>NaN</td>\n",
              "      <td>NaN</td>\n",
              "      <td>8</td>\n",
              "      <td>Legendary</td>\n",
              "      <td>Gigantic Pokémon</td>\n",
              "      <td>2</td>\n",
              "      <td>Poison</td>\n",
              "      <td>Dragon</td>\n",
              "      <td>100.0</td>\n",
              "      <td>NaN</td>\n",
              "      <td>0</td>\n",
              "      <td>NaN</td>\n",
              "      <td>NaN</td>\n",
              "      <td>NaN</td>\n",
              "      <td>1125.0</td>\n",
              "      <td>255.0</td>\n",
              "      <td>115.0</td>\n",
              "      <td>250.0</td>\n",
              "      <td>125.0</td>\n",
              "      <td>250.0</td>\n",
              "      <td>130.0</td>\n",
              "      <td>NaN</td>\n",
              "      <td>NaN</td>\n",
              "      <td>NaN</td>\n",
              "      <td>Slow</td>\n",
              "      <td>1</td>\n",
              "      <td>Undiscovered</td>\n",
              "      <td>NaN</td>\n",
              "      <td>NaN</td>\n",
              "      <td>120.0</td>\n",
              "      <td>1.0</td>\n",
              "      <td>0.5</td>\n",
              "      <td>0.5</td>\n",
              "      <td>0.5</td>\n",
              "      <td>0.25</td>\n",
              "      <td>2.0</td>\n",
              "      <td>0.5</td>\n",
              "      <td>0.5</td>\n",
              "      <td>2.0</td>\n",
              "      <td>1.0</td>\n",
              "      <td>2.0</td>\n",
              "      <td>0.5</td>\n",
              "      <td>1.0</td>\n",
              "      <td>1.0</td>\n",
              "      <td>2.0</td>\n",
              "      <td>1.0</td>\n",
              "      <td>1.0</td>\n",
              "      <td>1.0</td>\n",
              "    </tr>\n",
              "  </tbody>\n",
              "</table>\n",
              "</div>"
            ],
            "text/plain": [
              "      Unnamed: 0  pokedex_number  ... against_steel against_fairy\n",
              "1027        1027             890  ...           1.0           1.0\n",
              "\n",
              "[1 rows x 51 columns]"
            ]
          },
          "metadata": {
            "tags": []
          },
          "execution_count": 82
        }
      ]
    },
    {
      "cell_type": "code",
      "metadata": {
        "colab": {
          "base_uri": "https://localhost:8080/",
          "height": 181
        },
        "id": "NMVuGAM5vIgy",
        "outputId": "0279042b-9bd3-4cc8-bce4-f88c4f5732f9"
      },
      "source": [
        "dataset[ dataset['species'] == \"Gigantic Pokémon\"]"
      ],
      "execution_count": null,
      "outputs": [
        {
          "output_type": "execute_result",
          "data": {
            "text/html": [
              "<div>\n",
              "<style scoped>\n",
              "    .dataframe tbody tr th:only-of-type {\n",
              "        vertical-align: middle;\n",
              "    }\n",
              "\n",
              "    .dataframe tbody tr th {\n",
              "        vertical-align: top;\n",
              "    }\n",
              "\n",
              "    .dataframe thead th {\n",
              "        text-align: right;\n",
              "    }\n",
              "</style>\n",
              "<table border=\"1\" class=\"dataframe\">\n",
              "  <thead>\n",
              "    <tr style=\"text-align: right;\">\n",
              "      <th></th>\n",
              "      <th>Unnamed: 0</th>\n",
              "      <th>pokedex_number</th>\n",
              "      <th>name</th>\n",
              "      <th>german_name</th>\n",
              "      <th>japanese_name</th>\n",
              "      <th>generation</th>\n",
              "      <th>status</th>\n",
              "      <th>species</th>\n",
              "      <th>type_number</th>\n",
              "      <th>type_1</th>\n",
              "      <th>type_2</th>\n",
              "      <th>height_m</th>\n",
              "      <th>weight_kg</th>\n",
              "      <th>abilities_number</th>\n",
              "      <th>ability_1</th>\n",
              "      <th>ability_2</th>\n",
              "      <th>ability_hidden</th>\n",
              "      <th>total_points</th>\n",
              "      <th>hp</th>\n",
              "      <th>attack</th>\n",
              "      <th>defense</th>\n",
              "      <th>sp_attack</th>\n",
              "      <th>sp_defense</th>\n",
              "      <th>speed</th>\n",
              "      <th>catch_rate</th>\n",
              "      <th>base_friendship</th>\n",
              "      <th>base_experience</th>\n",
              "      <th>growth_rate</th>\n",
              "      <th>egg_type_number</th>\n",
              "      <th>egg_type_1</th>\n",
              "      <th>egg_type_2</th>\n",
              "      <th>percentage_male</th>\n",
              "      <th>egg_cycles</th>\n",
              "      <th>against_normal</th>\n",
              "      <th>against_fire</th>\n",
              "      <th>against_water</th>\n",
              "      <th>against_electric</th>\n",
              "      <th>against_grass</th>\n",
              "      <th>against_ice</th>\n",
              "      <th>against_fight</th>\n",
              "      <th>against_poison</th>\n",
              "      <th>against_ground</th>\n",
              "      <th>against_flying</th>\n",
              "      <th>against_psychic</th>\n",
              "      <th>against_bug</th>\n",
              "      <th>against_rock</th>\n",
              "      <th>against_ghost</th>\n",
              "      <th>against_dragon</th>\n",
              "      <th>against_dark</th>\n",
              "      <th>against_steel</th>\n",
              "      <th>against_fairy</th>\n",
              "    </tr>\n",
              "  </thead>\n",
              "  <tbody>\n",
              "    <tr>\n",
              "      <th>1026</th>\n",
              "      <td>1026</td>\n",
              "      <td>890</td>\n",
              "      <td>Eternatus</td>\n",
              "      <td>NaN</td>\n",
              "      <td>NaN</td>\n",
              "      <td>8</td>\n",
              "      <td>Legendary</td>\n",
              "      <td>Gigantic Pokémon</td>\n",
              "      <td>2</td>\n",
              "      <td>Poison</td>\n",
              "      <td>Dragon</td>\n",
              "      <td>20.0</td>\n",
              "      <td>950.0</td>\n",
              "      <td>1</td>\n",
              "      <td>Pressure</td>\n",
              "      <td>NaN</td>\n",
              "      <td>NaN</td>\n",
              "      <td>690.0</td>\n",
              "      <td>140.0</td>\n",
              "      <td>85.0</td>\n",
              "      <td>95.0</td>\n",
              "      <td>145.0</td>\n",
              "      <td>95.0</td>\n",
              "      <td>130.0</td>\n",
              "      <td>NaN</td>\n",
              "      <td>NaN</td>\n",
              "      <td>NaN</td>\n",
              "      <td>Slow</td>\n",
              "      <td>1</td>\n",
              "      <td>Undiscovered</td>\n",
              "      <td>NaN</td>\n",
              "      <td>NaN</td>\n",
              "      <td>120.0</td>\n",
              "      <td>1.0</td>\n",
              "      <td>0.5</td>\n",
              "      <td>0.5</td>\n",
              "      <td>0.5</td>\n",
              "      <td>0.25</td>\n",
              "      <td>2.0</td>\n",
              "      <td>0.5</td>\n",
              "      <td>0.5</td>\n",
              "      <td>2.0</td>\n",
              "      <td>1.0</td>\n",
              "      <td>2.0</td>\n",
              "      <td>0.5</td>\n",
              "      <td>1.0</td>\n",
              "      <td>1.0</td>\n",
              "      <td>2.0</td>\n",
              "      <td>1.0</td>\n",
              "      <td>1.0</td>\n",
              "      <td>1.0</td>\n",
              "    </tr>\n",
              "    <tr>\n",
              "      <th>1027</th>\n",
              "      <td>1027</td>\n",
              "      <td>890</td>\n",
              "      <td>Eternatus Eternamax</td>\n",
              "      <td>NaN</td>\n",
              "      <td>NaN</td>\n",
              "      <td>8</td>\n",
              "      <td>Legendary</td>\n",
              "      <td>Gigantic Pokémon</td>\n",
              "      <td>2</td>\n",
              "      <td>Poison</td>\n",
              "      <td>Dragon</td>\n",
              "      <td>100.0</td>\n",
              "      <td>NaN</td>\n",
              "      <td>0</td>\n",
              "      <td>NaN</td>\n",
              "      <td>NaN</td>\n",
              "      <td>NaN</td>\n",
              "      <td>1125.0</td>\n",
              "      <td>255.0</td>\n",
              "      <td>115.0</td>\n",
              "      <td>250.0</td>\n",
              "      <td>125.0</td>\n",
              "      <td>250.0</td>\n",
              "      <td>130.0</td>\n",
              "      <td>NaN</td>\n",
              "      <td>NaN</td>\n",
              "      <td>NaN</td>\n",
              "      <td>Slow</td>\n",
              "      <td>1</td>\n",
              "      <td>Undiscovered</td>\n",
              "      <td>NaN</td>\n",
              "      <td>NaN</td>\n",
              "      <td>120.0</td>\n",
              "      <td>1.0</td>\n",
              "      <td>0.5</td>\n",
              "      <td>0.5</td>\n",
              "      <td>0.5</td>\n",
              "      <td>0.25</td>\n",
              "      <td>2.0</td>\n",
              "      <td>0.5</td>\n",
              "      <td>0.5</td>\n",
              "      <td>2.0</td>\n",
              "      <td>1.0</td>\n",
              "      <td>2.0</td>\n",
              "      <td>0.5</td>\n",
              "      <td>1.0</td>\n",
              "      <td>1.0</td>\n",
              "      <td>2.0</td>\n",
              "      <td>1.0</td>\n",
              "      <td>1.0</td>\n",
              "      <td>1.0</td>\n",
              "    </tr>\n",
              "  </tbody>\n",
              "</table>\n",
              "</div>"
            ],
            "text/plain": [
              "      Unnamed: 0  pokedex_number  ... against_steel against_fairy\n",
              "1026        1026             890  ...           1.0           1.0\n",
              "1027        1027             890  ...           1.0           1.0\n",
              "\n",
              "[2 rows x 51 columns]"
            ]
          },
          "metadata": {
            "tags": []
          },
          "execution_count": 61
        }
      ]
    },
    {
      "cell_type": "code",
      "metadata": {
        "colab": {
          "base_uri": "https://localhost:8080/",
          "height": 282
        },
        "id": "ntGZDd0_vh7B",
        "outputId": "fca9d12f-90d2-4e13-afc2-7402424c7d55"
      },
      "source": [
        "dataset[ dataset['height_m'] < 20 ]['height_m'].plot()"
      ],
      "execution_count": null,
      "outputs": [
        {
          "output_type": "execute_result",
          "data": {
            "text/plain": [
              "<matplotlib.axes._subplots.AxesSubplot at 0x7efee69bac50>"
            ]
          },
          "metadata": {
            "tags": []
          },
          "execution_count": 96
        },
        {
          "output_type": "display_data",
          "data": {
            "image/png": "[encoded data removed]",
            "text/plain": [
              "<Figure size 432x288 with 1 Axes>"
            ]
          },
          "metadata": {
            "tags": [],
            "needs_background": "light"
          }
        }
      ]
    },
    {
      "cell_type": "code",
      "metadata": {
        "id": "ubzK-CPzv4kI"
      },
      "source": [
        "tall_legendary_pokemons = dataset[ (dataset['height_m'] > 10) & (dataset['status'] == \"Legendary\")]\r\n",
        "tall_legendary_pokemons"
      ],
      "execution_count": null,
      "outputs": []
    },
    {
      "cell_type": "code",
      "metadata": {
        "id": "dTWN6UWJ23Lv",
        "colab": {
          "base_uri": "https://localhost:8080/"
        },
        "outputId": "303b67ae-2168-4524-c688-f5fd0c7dc79e"
      },
      "source": [
        "dataset.describe(include=\"object\")"
      ],
      "execution_count": null,
      "outputs": [
        {
          "output_type": "execute_result",
          "data": {
            "text/html": [
              "<div>\n",
              "<style scoped>\n",
              "    .dataframe tbody tr th:only-of-type {\n",
              "        vertical-align: middle;\n",
              "    }\n",
              "\n",
              "    .dataframe tbody tr th {\n",
              "        vertical-align: top;\n",
              "    }\n",
              "\n",
              "    .dataframe thead th {\n",
              "        text-align: right;\n",
              "    }\n",
              "</style>\n",
              "<table border=\"1\" class=\"dataframe\">\n",
              "  <thead>\n",
              "    <tr style=\"text-align: right;\">\n",
              "      <th></th>\n",
              "      <th>name</th>\n",
              "      <th>german_name</th>\n",
              "      <th>japanese_name</th>\n",
              "      <th>status</th>\n",
              "      <th>species</th>\n",
              "      <th>type_1</th>\n",
              "      <th>type_2</th>\n",
              "      <th>ability_1</th>\n",
              "      <th>ability_2</th>\n",
              "      <th>ability_hidden</th>\n",
              "      <th>growth_rate</th>\n",
              "      <th>egg_type_1</th>\n",
              "      <th>egg_type_2</th>\n",
              "    </tr>\n",
              "  </thead>\n",
              "  <tbody>\n",
              "    <tr>\n",
              "      <th>count</th>\n",
              "      <td>1028</td>\n",
              "      <td>938</td>\n",
              "      <td>938</td>\n",
              "      <td>1028</td>\n",
              "      <td>1028</td>\n",
              "      <td>1028</td>\n",
              "      <td>542</td>\n",
              "      <td>1025</td>\n",
              "      <td>513</td>\n",
              "      <td>810</td>\n",
              "      <td>1027</td>\n",
              "      <td>1025</td>\n",
              "      <td>282</td>\n",
              "    </tr>\n",
              "    <tr>\n",
              "      <th>unique</th>\n",
              "      <td>1028</td>\n",
              "      <td>807</td>\n",
              "      <td>807</td>\n",
              "      <td>4</td>\n",
              "      <td>641</td>\n",
              "      <td>18</td>\n",
              "      <td>18</td>\n",
              "      <td>202</td>\n",
              "      <td>126</td>\n",
              "      <td>154</td>\n",
              "      <td>6</td>\n",
              "      <td>15</td>\n",
              "      <td>11</td>\n",
              "    </tr>\n",
              "    <tr>\n",
              "      <th>top</th>\n",
              "      <td>Dragalge</td>\n",
              "      <td>Rotom</td>\n",
              "      <td>ロトム (Rotom)</td>\n",
              "      <td>Normal</td>\n",
              "      <td>Mouse Pokémon</td>\n",
              "      <td>Water</td>\n",
              "      <td>Flying</td>\n",
              "      <td>Levitate</td>\n",
              "      <td>Frisk</td>\n",
              "      <td>Telepathy</td>\n",
              "      <td>Medium Fast</td>\n",
              "      <td>Field</td>\n",
              "      <td>Water 1</td>\n",
              "    </tr>\n",
              "    <tr>\n",
              "      <th>freq</th>\n",
              "      <td>1</td>\n",
              "      <td>6</td>\n",
              "      <td>6</td>\n",
              "      <td>915</td>\n",
              "      <td>12</td>\n",
              "      <td>134</td>\n",
              "      <td>109</td>\n",
              "      <td>41</td>\n",
              "      <td>17</td>\n",
              "      <td>21</td>\n",
              "      <td>432</td>\n",
              "      <td>258</td>\n",
              "      <td>76</td>\n",
              "    </tr>\n",
              "  </tbody>\n",
              "</table>\n",
              "</div>"
            ],
            "text/plain": [
              "            name german_name japanese_name  ...  growth_rate egg_type_1 egg_type_2\n",
              "count       1028         938           938  ...         1027       1025        282\n",
              "unique      1028         807           807  ...            6         15         11\n",
              "top     Dragalge       Rotom   ロトム (Rotom)  ...  Medium Fast      Field    Water 1\n",
              "freq           1           6             6  ...          432        258         76\n",
              "\n",
              "[4 rows x 13 columns]"
            ]
          },
          "metadata": {
            "tags": []
          },
          "execution_count": 3
        }
      ]
    },
    {
      "cell_type": "code",
      "metadata": {
        "id": "8p3J8g-J8DEl"
      },
      "source": [
        "# Getting values\r\n",
        "dataset['status'].count()  # number of non NaN values\r\n",
        "dataset['status'].unique()   # unique values\r\n",
        "dataset['status'].nunique()  # number of unique values\r\n",
        "dataset.dtypes # returns types of columns"
      ],
      "execution_count": null,
      "outputs": []
    },
    {
      "cell_type": "code",
      "metadata": {
        "id": "_0H5_jw98vYM"
      },
      "source": [
        "dataset.sort_values('weight_kg', ascending=False)"
      ],
      "execution_count": null,
      "outputs": []
    },
    {
      "cell_type": "code",
      "metadata": {
        "id": "ChudYKuu9Yf6"
      },
      "source": [
        "dataset.isna().sum() # how many missing values we have per column\r\n",
        "dataset.isnull().sum() #same thing\r\n",
        "# if we add another .sum() we have number of total missing values"
      ],
      "execution_count": null,
      "outputs": []
    },
    {
      "cell_type": "code",
      "metadata": {
        "id": "Vo1LySui-URG"
      },
      "source": [
        "dataset[ dataset.isnull().any(axis=1) ] # rows li fehom at least 1 missing value\r\n",
        "dataset[ dataset.isnull().all(axis=1) ] # rows li columns kol te3ha null"
      ],
      "execution_count": null,
      "outputs": []
    },
    {
      "cell_type": "code",
      "metadata": {
        "colab": {
          "base_uri": "https://localhost:8080/"
        },
        "id": "O8u3VlPJCmm9",
        "outputId": "85f9dd1f-1f0c-4bad-d353-c5ae67cdfd66"
      },
      "source": [
        "dataset.plot(x=\"height_m\", y=\"weight_kg\", style=\"o\")"
      ],
      "execution_count": null,
      "outputs": [
        {
          "output_type": "execute_result",
          "data": {
            "text/plain": [
              "<matplotlib.axes._subplots.AxesSubplot at 0x7f4af8d84790>"
            ]
          },
          "metadata": {
            "tags": []
          },
          "execution_count": 8
        },
        {
          "output_type": "display_data",
          "data": {
            "image/png": "[encoded data removed]",
            "text/plain": [
              "<Figure size 432x288 with 1 Axes>"
            ]
          },
          "metadata": {
            "tags": [],
            "needs_background": "light"
          }
        }
      ]
    },
    {
      "cell_type": "markdown",
      "metadata": {
        "id": "ZM6HUVwC_fPc"
      },
      "source": [
        "## Data Preprocessing / cleaning"
      ]
    },
    {
      "cell_type": "code",
      "metadata": {
        "id": "S-Kdz88f_mq9"
      },
      "source": [
        "# colonnes ( Unnamed, german_name, japanese_name, pokedex_number) najmou nistghanew minhom\r\n",
        "dataset.drop([\"Unnamed: 0\",'japanese_name','pokedex_number','german_name'], axis=1, inplace=True)"
      ],
      "execution_count": null,
      "outputs": []
    },
    {
      "cell_type": "code",
      "metadata": {
        "id": "HmSeIAPyANEs"
      },
      "source": [
        "dataset.drop([2,5], axis=0, inplace=True) # drops rows with indices 2 & 5"
      ],
      "execution_count": null,
      "outputs": []
    },
    {
      "cell_type": "code",
      "metadata": {
        "id": "FILRlB8BB-vm"
      },
      "source": [
        "dataset.rename(columns = {'generation ':'gen'}, inplace=True)"
      ],
      "execution_count": null,
      "outputs": []
    },
    {
      "cell_type": "code",
      "metadata": {
        "id": "EnXQLDlBD0xT"
      },
      "source": [
        "dataset['bmi'] = dataset['weight_kg'] / dataset['height_m']\r\n",
        "dataset['bmi'] = 0\r\n",
        "# if bmi column exists, the values will be replaced\r\n",
        "# else the column will be created and assigned the right side"
      ],
      "execution_count": null,
      "outputs": []
    },
    {
      "cell_type": "code",
      "metadata": {
        "id": "mnE2ot10BRYm"
      },
      "source": [
        "dataset.to_csv(\"new.csv\", index=False)"
      ],
      "execution_count": null,
      "outputs": []
    },
    {
      "cell_type": "code",
      "metadata": {
        "id": "MLBEDRtwGssH"
      },
      "source": [
        "# to change order of columns do the following with the dolumns ordered like you want\r\n",
        "# to get the list of columns use dataset.columns\r\n",
        "dataset = dataset[['gen', 'status','name', 'species', 'type_number', 'type_1', 'type_2',\r\n",
        "       'height_m', 'weight_kg', 'abilities_number', 'ability_1', 'ability_2',\r\n",
        "       'ability_hidden', 'total_points', 'hp', 'attack', 'defense',\r\n",
        "       'sp_attack', 'sp_defense', 'speed', 'catch_rate', 'base_friendship',\r\n",
        "       'base_experience', 'growth_rate', 'egg_type_number', 'egg_type_1',\r\n",
        "       'egg_type_2', 'percentage_male', 'egg_cycles', 'against_normal',\r\n",
        "       'against_fire', 'against_water', 'against_electric', 'against_grass',\r\n",
        "       'against_ice', 'against_fight', 'against_poison', 'against_ground',\r\n",
        "       'against_flying', 'against_psychic', 'against_bug', 'against_rock',\r\n",
        "       'against_ghost', 'against_dragon', 'against_dark', 'against_steel',\r\n",
        "       'against_fairy', 'bmi']]"
      ],
      "execution_count": null,
      "outputs": []
    },
    {
      "cell_type": "markdown",
      "metadata": {
        "id": "D2b3mxMRRPp2"
      },
      "source": [
        "# Part 2: ML"
      ]
    },
    {
      "cell_type": "markdown",
      "metadata": {
        "id": "UHsmt7X6Wr9z"
      },
      "source": [
        "#### Importing libraries"
      ]
    },
    {
      "cell_type": "code",
      "metadata": {
        "id": "RYBJTbdKRk1g"
      },
      "source": [
        "import pandas as pd\r\n",
        "import matplotlib.pyplot as plt"
      ],
      "execution_count": null,
      "outputs": []
    },
    {
      "cell_type": "markdown",
      "metadata": {
        "id": "hFHfmhJpWthd"
      },
      "source": [
        "#### Data Loading"
      ]
    },
    {
      "cell_type": "code",
      "metadata": {
        "id": "PHhmuY8RRmg6"
      },
      "source": [
        "dataset = pandas.read_csv('https://raw.githubusercontent.com/elyesmanai/Datasets-for-ML-trainings/main/dataset_malwares.csv')"
      ],
      "execution_count": null,
      "outputs": []
    },
    {
      "cell_type": "markdown",
      "metadata": {
        "id": "FIhyiQfjWw_L"
      },
      "source": [
        "#### EDA"
      ]
    },
    {
      "cell_type": "code",
      "metadata": {
        "colab": {
          "base_uri": "https://localhost:8080/"
        },
        "id": "Gfrop3a6R35O",
        "outputId": "08af15bb-93ed-4aca-b7e0-fe002f753681"
      },
      "source": [
        "dataset.shape"
      ],
      "execution_count": null,
      "outputs": [
        {
          "output_type": "execute_result",
          "data": {
            "text/plain": [
              "(19611, 78)"
            ]
          },
          "metadata": {
            "tags": []
          },
          "execution_count": 18
        }
      ]
    },
    {
      "cell_type": "code",
      "metadata": {
        "colab": {
          "base_uri": "https://localhost:8080/",
          "height": 223
        },
        "id": "A98sgowJR9I7",
        "outputId": "ce576f27-608d-4a4f-c905-e45b9db28875"
      },
      "source": [
        "dataset.sample(5) "
      ],
      "execution_count": null,
      "outputs": [
        {
          "output_type": "execute_result",
          "data": {
            "text/html": [
              "<div>\n",
              "<style scoped>\n",
              "    .dataframe tbody tr th:only-of-type {\n",
              "        vertical-align: middle;\n",
              "    }\n",
              "\n",
              "    .dataframe tbody tr th {\n",
              "        vertical-align: top;\n",
              "    }\n",
              "\n",
              "    .dataframe thead th {\n",
              "        text-align: right;\n",
              "    }\n",
              "</style>\n",
              "<table border=\"1\" class=\"dataframe\">\n",
              "  <thead>\n",
              "    <tr style=\"text-align: right;\">\n",
              "      <th></th>\n",
              "      <th>e_magic</th>\n",
              "      <th>e_cblp</th>\n",
              "      <th>e_cp</th>\n",
              "      <th>e_crlc</th>\n",
              "      <th>e_cparhdr</th>\n",
              "      <th>e_minalloc</th>\n",
              "      <th>e_maxalloc</th>\n",
              "      <th>e_ss</th>\n",
              "      <th>e_sp</th>\n",
              "      <th>e_csum</th>\n",
              "      <th>e_ip</th>\n",
              "      <th>e_cs</th>\n",
              "      <th>e_lfarlc</th>\n",
              "      <th>e_ovno</th>\n",
              "      <th>e_oemid</th>\n",
              "      <th>e_oeminfo</th>\n",
              "      <th>e_lfanew</th>\n",
              "      <th>Machine</th>\n",
              "      <th>NumberOfSections</th>\n",
              "      <th>TimeDateStamp</th>\n",
              "      <th>PointerToSymbolTable</th>\n",
              "      <th>NumberOfSymbols</th>\n",
              "      <th>SizeOfOptionalHeader</th>\n",
              "      <th>Characteristics</th>\n",
              "      <th>Magic</th>\n",
              "      <th>MajorLinkerVersion</th>\n",
              "      <th>MinorLinkerVersion</th>\n",
              "      <th>SizeOfCode</th>\n",
              "      <th>SizeOfInitializedData</th>\n",
              "      <th>SizeOfUninitializedData</th>\n",
              "      <th>AddressOfEntryPoint</th>\n",
              "      <th>BaseOfCode</th>\n",
              "      <th>ImageBase</th>\n",
              "      <th>SectionAlignment</th>\n",
              "      <th>FileAlignment</th>\n",
              "      <th>MajorOperatingSystemVersion</th>\n",
              "      <th>MinorOperatingSystemVersion</th>\n",
              "      <th>MajorImageVersion</th>\n",
              "      <th>MinorImageVersion</th>\n",
              "      <th>MajorSubsystemVersion</th>\n",
              "      <th>MinorSubsystemVersion</th>\n",
              "      <th>SizeOfHeaders</th>\n",
              "      <th>CheckSum</th>\n",
              "      <th>SizeOfImage</th>\n",
              "      <th>Subsystem</th>\n",
              "      <th>DllCharacteristics</th>\n",
              "      <th>SizeOfStackReserve</th>\n",
              "      <th>SizeOfStackCommit</th>\n",
              "      <th>SizeOfHeapReserve</th>\n",
              "      <th>SizeOfHeapCommit</th>\n",
              "      <th>LoaderFlags</th>\n",
              "      <th>NumberOfRvaAndSizes</th>\n",
              "      <th>Malware</th>\n",
              "      <th>SuspiciousImportFunctions</th>\n",
              "      <th>SuspiciousNameSection</th>\n",
              "      <th>SectionsLength</th>\n",
              "      <th>SectionMinEntropy</th>\n",
              "      <th>SectionMaxEntropy</th>\n",
              "      <th>SectionMinRawsize</th>\n",
              "      <th>SectionMaxRawsize</th>\n",
              "      <th>SectionMinVirtualsize</th>\n",
              "      <th>SectionMaxVirtualsize</th>\n",
              "      <th>SectionMaxPhysical</th>\n",
              "      <th>SectionMinPhysical</th>\n",
              "      <th>SectionMaxVirtual</th>\n",
              "      <th>SectionMinVirtual</th>\n",
              "      <th>SectionMaxPointerData</th>\n",
              "      <th>SectionMinPointerData</th>\n",
              "      <th>SectionMaxChar</th>\n",
              "      <th>SectionMainChar</th>\n",
              "      <th>DirectoryEntryImport</th>\n",
              "      <th>DirectoryEntryImportSize</th>\n",
              "      <th>DirectoryEntryExport</th>\n",
              "      <th>ImageDirectoryEntryExport</th>\n",
              "      <th>ImageDirectoryEntryImport</th>\n",
              "      <th>ImageDirectoryEntryResource</th>\n",
              "      <th>ImageDirectoryEntryException</th>\n",
              "      <th>ImageDirectoryEntrySecurity</th>\n",
              "    </tr>\n",
              "  </thead>\n",
              "  <tbody>\n",
              "    <tr>\n",
              "      <th>1067</th>\n",
              "      <td>23117</td>\n",
              "      <td>144</td>\n",
              "      <td>3</td>\n",
              "      <td>0</td>\n",
              "      <td>4</td>\n",
              "      <td>0</td>\n",
              "      <td>65535</td>\n",
              "      <td>0</td>\n",
              "      <td>184</td>\n",
              "      <td>0</td>\n",
              "      <td>0</td>\n",
              "      <td>0</td>\n",
              "      <td>64</td>\n",
              "      <td>0</td>\n",
              "      <td>0</td>\n",
              "      <td>0</td>\n",
              "      <td>128</td>\n",
              "      <td>332</td>\n",
              "      <td>3</td>\n",
              "      <td>1190241051</td>\n",
              "      <td>0</td>\n",
              "      <td>0</td>\n",
              "      <td>224</td>\n",
              "      <td>270</td>\n",
              "      <td>267</td>\n",
              "      <td>8</td>\n",
              "      <td>0</td>\n",
              "      <td>53248</td>\n",
              "      <td>8192</td>\n",
              "      <td>0</td>\n",
              "      <td>60119</td>\n",
              "      <td>8192</td>\n",
              "      <td>4194304</td>\n",
              "      <td>8192</td>\n",
              "      <td>4096</td>\n",
              "      <td>4</td>\n",
              "      <td>0</td>\n",
              "      <td>0</td>\n",
              "      <td>0</td>\n",
              "      <td>4</td>\n",
              "      <td>0</td>\n",
              "      <td>4096</td>\n",
              "      <td>0</td>\n",
              "      <td>106496</td>\n",
              "      <td>2</td>\n",
              "      <td>1024</td>\n",
              "      <td>1048576</td>\n",
              "      <td>4096</td>\n",
              "      <td>1048576</td>\n",
              "      <td>4096</td>\n",
              "      <td>0</td>\n",
              "      <td>16</td>\n",
              "      <td>1</td>\n",
              "      <td>0</td>\n",
              "      <td>0</td>\n",
              "      <td>3</td>\n",
              "      <td>1.090746</td>\n",
              "      <td>0</td>\n",
              "      <td>4096</td>\n",
              "      <td>0</td>\n",
              "      <td>1056</td>\n",
              "      <td>0</td>\n",
              "      <td>53248</td>\n",
              "      <td>0</td>\n",
              "      <td>73728</td>\n",
              "      <td>0</td>\n",
              "      <td>61440</td>\n",
              "      <td>0</td>\n",
              "      <td>3791650912</td>\n",
              "      <td>0</td>\n",
              "      <td>1</td>\n",
              "      <td>1</td>\n",
              "      <td>0</td>\n",
              "      <td>0</td>\n",
              "      <td>59664</td>\n",
              "      <td>65536</td>\n",
              "      <td>0</td>\n",
              "      <td>0</td>\n",
              "    </tr>\n",
              "    <tr>\n",
              "      <th>18685</th>\n",
              "      <td>23117</td>\n",
              "      <td>144</td>\n",
              "      <td>3</td>\n",
              "      <td>0</td>\n",
              "      <td>4</td>\n",
              "      <td>0</td>\n",
              "      <td>65535</td>\n",
              "      <td>0</td>\n",
              "      <td>184</td>\n",
              "      <td>0</td>\n",
              "      <td>0</td>\n",
              "      <td>0</td>\n",
              "      <td>64</td>\n",
              "      <td>0</td>\n",
              "      <td>0</td>\n",
              "      <td>0</td>\n",
              "      <td>232</td>\n",
              "      <td>332</td>\n",
              "      <td>6</td>\n",
              "      <td>1377140056</td>\n",
              "      <td>0</td>\n",
              "      <td>0</td>\n",
              "      <td>224</td>\n",
              "      <td>8450</td>\n",
              "      <td>267</td>\n",
              "      <td>11</td>\n",
              "      <td>0</td>\n",
              "      <td>5120</td>\n",
              "      <td>5632</td>\n",
              "      <td>0</td>\n",
              "      <td>6065</td>\n",
              "      <td>4096</td>\n",
              "      <td>268435456</td>\n",
              "      <td>4096</td>\n",
              "      <td>512</td>\n",
              "      <td>6</td>\n",
              "      <td>3</td>\n",
              "      <td>6</td>\n",
              "      <td>3</td>\n",
              "      <td>6</td>\n",
              "      <td>3</td>\n",
              "      <td>1024</td>\n",
              "      <td>50096</td>\n",
              "      <td>32768</td>\n",
              "      <td>3</td>\n",
              "      <td>320</td>\n",
              "      <td>262144</td>\n",
              "      <td>4096</td>\n",
              "      <td>1048576</td>\n",
              "      <td>4096</td>\n",
              "      <td>0</td>\n",
              "      <td>16</td>\n",
              "      <td>0</td>\n",
              "      <td>0</td>\n",
              "      <td>0</td>\n",
              "      <td>6</td>\n",
              "      <td>0.285782</td>\n",
              "      <td>0</td>\n",
              "      <td>512</td>\n",
              "      <td>0</td>\n",
              "      <td>163</td>\n",
              "      <td>0</td>\n",
              "      <td>4325</td>\n",
              "      <td>0</td>\n",
              "      <td>28672</td>\n",
              "      <td>0</td>\n",
              "      <td>9728</td>\n",
              "      <td>0</td>\n",
              "      <td>3221225536</td>\n",
              "      <td>0</td>\n",
              "      <td>9</td>\n",
              "      <td>41</td>\n",
              "      <td>4</td>\n",
              "      <td>8256</td>\n",
              "      <td>20680</td>\n",
              "      <td>24576</td>\n",
              "      <td>0</td>\n",
              "      <td>0</td>\n",
              "    </tr>\n",
              "    <tr>\n",
              "      <th>7292</th>\n",
              "      <td>23117</td>\n",
              "      <td>80</td>\n",
              "      <td>2</td>\n",
              "      <td>0</td>\n",
              "      <td>4</td>\n",
              "      <td>15</td>\n",
              "      <td>65535</td>\n",
              "      <td>0</td>\n",
              "      <td>184</td>\n",
              "      <td>0</td>\n",
              "      <td>0</td>\n",
              "      <td>0</td>\n",
              "      <td>64</td>\n",
              "      <td>26</td>\n",
              "      <td>0</td>\n",
              "      <td>0</td>\n",
              "      <td>256</td>\n",
              "      <td>332</td>\n",
              "      <td>8</td>\n",
              "      <td>708992537</td>\n",
              "      <td>0</td>\n",
              "      <td>0</td>\n",
              "      <td>224</td>\n",
              "      <td>33166</td>\n",
              "      <td>267</td>\n",
              "      <td>2</td>\n",
              "      <td>25</td>\n",
              "      <td>47616</td>\n",
              "      <td>21504</td>\n",
              "      <td>0</td>\n",
              "      <td>49600</td>\n",
              "      <td>4096</td>\n",
              "      <td>4194304</td>\n",
              "      <td>4096</td>\n",
              "      <td>512</td>\n",
              "      <td>4</td>\n",
              "      <td>0</td>\n",
              "      <td>6</td>\n",
              "      <td>0</td>\n",
              "      <td>4</td>\n",
              "      <td>0</td>\n",
              "      <td>1024</td>\n",
              "      <td>2435228</td>\n",
              "      <td>98304</td>\n",
              "      <td>2</td>\n",
              "      <td>32768</td>\n",
              "      <td>1048576</td>\n",
              "      <td>16384</td>\n",
              "      <td>1048576</td>\n",
              "      <td>4096</td>\n",
              "      <td>0</td>\n",
              "      <td>16</td>\n",
              "      <td>1</td>\n",
              "      <td>24</td>\n",
              "      <td>0</td>\n",
              "      <td>8</td>\n",
              "      <td>0.000000</td>\n",
              "      <td>0</td>\n",
              "      <td>0</td>\n",
              "      <td>0</td>\n",
              "      <td>8</td>\n",
              "      <td>0</td>\n",
              "      <td>47336</td>\n",
              "      <td>0</td>\n",
              "      <td>86016</td>\n",
              "      <td>0</td>\n",
              "      <td>58368</td>\n",
              "      <td>0</td>\n",
              "      <td>3221225536</td>\n",
              "      <td>0</td>\n",
              "      <td>11</td>\n",
              "      <td>114</td>\n",
              "      <td>0</td>\n",
              "      <td>0</td>\n",
              "      <td>65536</td>\n",
              "      <td>86016</td>\n",
              "      <td>0</td>\n",
              "      <td>2425248</td>\n",
              "    </tr>\n",
              "    <tr>\n",
              "      <th>19334</th>\n",
              "      <td>23117</td>\n",
              "      <td>0</td>\n",
              "      <td>0</td>\n",
              "      <td>0</td>\n",
              "      <td>0</td>\n",
              "      <td>0</td>\n",
              "      <td>0</td>\n",
              "      <td>0</td>\n",
              "      <td>0</td>\n",
              "      <td>0</td>\n",
              "      <td>0</td>\n",
              "      <td>0</td>\n",
              "      <td>64</td>\n",
              "      <td>0</td>\n",
              "      <td>0</td>\n",
              "      <td>0</td>\n",
              "      <td>128</td>\n",
              "      <td>34404</td>\n",
              "      <td>4</td>\n",
              "      <td>1377160312</td>\n",
              "      <td>0</td>\n",
              "      <td>0</td>\n",
              "      <td>240</td>\n",
              "      <td>8226</td>\n",
              "      <td>523</td>\n",
              "      <td>11</td>\n",
              "      <td>0</td>\n",
              "      <td>0</td>\n",
              "      <td>0</td>\n",
              "      <td>0</td>\n",
              "      <td>0</td>\n",
              "      <td>0</td>\n",
              "      <td>6442647552</td>\n",
              "      <td>4096</td>\n",
              "      <td>512</td>\n",
              "      <td>5</td>\n",
              "      <td>2</td>\n",
              "      <td>0</td>\n",
              "      <td>0</td>\n",
              "      <td>5</td>\n",
              "      <td>2</td>\n",
              "      <td>1024</td>\n",
              "      <td>0</td>\n",
              "      <td>409600</td>\n",
              "      <td>3</td>\n",
              "      <td>320</td>\n",
              "      <td>0</td>\n",
              "      <td>0</td>\n",
              "      <td>0</td>\n",
              "      <td>0</td>\n",
              "      <td>0</td>\n",
              "      <td>16</td>\n",
              "      <td>0</td>\n",
              "      <td>0</td>\n",
              "      <td>0</td>\n",
              "      <td>4</td>\n",
              "      <td>2.736588</td>\n",
              "      <td>0</td>\n",
              "      <td>6144</td>\n",
              "      <td>0</td>\n",
              "      <td>5888</td>\n",
              "      <td>0</td>\n",
              "      <td>291332</td>\n",
              "      <td>0</td>\n",
              "      <td>401408</td>\n",
              "      <td>0</td>\n",
              "      <td>391680</td>\n",
              "      <td>0</td>\n",
              "      <td>3758096448</td>\n",
              "      <td>0</td>\n",
              "      <td>0</td>\n",
              "      <td>0</td>\n",
              "      <td>0</td>\n",
              "      <td>0</td>\n",
              "      <td>0</td>\n",
              "      <td>106496</td>\n",
              "      <td>108860</td>\n",
              "      <td>0</td>\n",
              "    </tr>\n",
              "    <tr>\n",
              "      <th>12184</th>\n",
              "      <td>23117</td>\n",
              "      <td>144</td>\n",
              "      <td>3</td>\n",
              "      <td>0</td>\n",
              "      <td>4</td>\n",
              "      <td>0</td>\n",
              "      <td>65535</td>\n",
              "      <td>0</td>\n",
              "      <td>184</td>\n",
              "      <td>0</td>\n",
              "      <td>0</td>\n",
              "      <td>0</td>\n",
              "      <td>64</td>\n",
              "      <td>0</td>\n",
              "      <td>0</td>\n",
              "      <td>0</td>\n",
              "      <td>248</td>\n",
              "      <td>332</td>\n",
              "      <td>5</td>\n",
              "      <td>1357726934</td>\n",
              "      <td>0</td>\n",
              "      <td>0</td>\n",
              "      <td>224</td>\n",
              "      <td>258</td>\n",
              "      <td>267</td>\n",
              "      <td>10</td>\n",
              "      <td>0</td>\n",
              "      <td>126464</td>\n",
              "      <td>467456</td>\n",
              "      <td>0</td>\n",
              "      <td>82629</td>\n",
              "      <td>4096</td>\n",
              "      <td>4194304</td>\n",
              "      <td>4096</td>\n",
              "      <td>512</td>\n",
              "      <td>5</td>\n",
              "      <td>1</td>\n",
              "      <td>0</td>\n",
              "      <td>0</td>\n",
              "      <td>5</td>\n",
              "      <td>1</td>\n",
              "      <td>1024</td>\n",
              "      <td>658301</td>\n",
              "      <td>618496</td>\n",
              "      <td>2</td>\n",
              "      <td>32832</td>\n",
              "      <td>10000000</td>\n",
              "      <td>4096</td>\n",
              "      <td>1048576</td>\n",
              "      <td>4096</td>\n",
              "      <td>0</td>\n",
              "      <td>16</td>\n",
              "      <td>1</td>\n",
              "      <td>11</td>\n",
              "      <td>0</td>\n",
              "      <td>5</td>\n",
              "      <td>4.288402</td>\n",
              "      <td>0</td>\n",
              "      <td>8704</td>\n",
              "      <td>0</td>\n",
              "      <td>9170</td>\n",
              "      <td>0</td>\n",
              "      <td>424176</td>\n",
              "      <td>0</td>\n",
              "      <td>606208</td>\n",
              "      <td>0</td>\n",
              "      <td>585728</td>\n",
              "      <td>0</td>\n",
              "      <td>3221225536</td>\n",
              "      <td>0</td>\n",
              "      <td>6</td>\n",
              "      <td>143</td>\n",
              "      <td>0</td>\n",
              "      <td>0</td>\n",
              "      <td>152828</td>\n",
              "      <td>180224</td>\n",
              "      <td>0</td>\n",
              "      <td>594944</td>\n",
              "    </tr>\n",
              "  </tbody>\n",
              "</table>\n",
              "</div>"
            ],
            "text/plain": [
              "       e_magic  ...  ImageDirectoryEntrySecurity\n",
              "1067     23117  ...                            0\n",
              "18685    23117  ...                            0\n",
              "7292     23117  ...                      2425248\n",
              "19334    23117  ...                            0\n",
              "12184    23117  ...                       594944\n",
              "\n",
              "[5 rows x 78 columns]"
            ]
          },
          "metadata": {
            "tags": []
          },
          "execution_count": 27
        }
      ]
    },
    {
      "cell_type": "code",
      "metadata": {
        "id": "dYwu7jOkTa8M"
      },
      "source": [
        "# bch nfasakh Name khater lesemi dima titbadel w easy bch tghaltou in the future\r\n",
        "# inajem il model ya3mel overfitting 3al name de facon kol ma ira Virus Share i9olik malware\r\n",
        "# iwali meme pas irakez m3al be9i, just irakiz m3al name\r\n",
        "dataset.drop('Name',axis=1, inplace=True)"
      ],
      "execution_count": null,
      "outputs": []
    },
    {
      "cell_type": "code",
      "metadata": {
        "id": "GvcQmJ3_Tl4X"
      },
      "source": [
        "# isna().sum() gives number of missing values per column\r\n",
        "# isna().sum().sum() gives total number of missing values in the dataset\r\n",
        "dataset.isna().sum().sum() \r\n",
        "#no missing values, parfait"
      ],
      "execution_count": null,
      "outputs": []
    },
    {
      "cell_type": "code",
      "metadata": {
        "id": "fyqhUvcZUF4Z"
      },
      "source": [
        "dataset.info()\r\n",
        "# no mistypes, no need to cast types\r\n",
        "# no objects (strings), no need for categorical encoding"
      ],
      "execution_count": null,
      "outputs": []
    },
    {
      "cell_type": "code",
      "metadata": {
        "colab": {
          "base_uri": "https://localhost:8080/"
        },
        "id": "4dVyFBaBUjjQ",
        "outputId": "94541df6-120c-45b3-8937-6f06d6cff54c"
      },
      "source": [
        "dataset['Malware'].value_counts()\r\n",
        "# 1/4 of the data is not malware --> Class Imbalance"
      ],
      "execution_count": null,
      "outputs": [
        {
          "output_type": "execute_result",
          "data": {
            "text/plain": [
              "1    14599\n",
              "0     5012\n",
              "Name: Malware, dtype: int64"
            ]
          },
          "metadata": {
            "tags": []
          },
          "execution_count": 26
        }
      ]
    },
    {
      "cell_type": "code",
      "metadata": {
        "colab": {
          "base_uri": "https://localhost:8080/",
          "height": 335
        },
        "id": "v35oClteU8hr",
        "outputId": "ca8107ed-1aa3-4507-cae1-a2081917b1bd"
      },
      "source": [
        "plt.hist(dataset['Malware'])\r\n",
        "# Big class imabalance (1/4) wa laken  fi cas ta3 antivirus we want the model to be stronk\r\n",
        "# on the Malware (1) donc nkhaliwha for now haka"
      ],
      "execution_count": null,
      "outputs": [
        {
          "output_type": "execute_result",
          "data": {
            "text/plain": [
              "(array([ 5012.,     0.,     0.,     0.,     0.,     0.,     0.,     0.,\n",
              "            0., 14599.]),\n",
              " array([0. , 0.1, 0.2, 0.3, 0.4, 0.5, 0.6, 0.7, 0.8, 0.9, 1. ]),\n",
              " <a list of 10 Patch objects>)"
            ]
          },
          "metadata": {
            "tags": []
          },
          "execution_count": 68
        },
        {
          "output_type": "display_data",
          "data": {
            "image/png": "[encoded data removed]",
            "text/plain": [
              "<Figure size 432x288 with 1 Axes>"
            ]
          },
          "metadata": {
            "tags": [],
            "needs_background": "light"
          }
        }
      ]
    },
    {
      "cell_type": "code",
      "metadata": {
        "id": "-UG5gMo8V3Se"
      },
      "source": [
        "dataset.describe()\r\n",
        "# we can remove and encode many features (ex: e_magic)"
      ],
      "execution_count": null,
      "outputs": []
    },
    {
      "cell_type": "markdown",
      "metadata": {
        "id": "01rzw3yNWyuS"
      },
      "source": [
        "#### Data Preparation"
      ]
    },
    {
      "cell_type": "code",
      "metadata": {
        "id": "O9F6UWk0Xsge"
      },
      "source": [
        "features = dataset.drop('Malware', axis=1)\r\n",
        "labels = dataset['Malware']"
      ],
      "execution_count": null,
      "outputs": []
    },
    {
      "cell_type": "code",
      "metadata": {
        "id": "Gk_EMzBnW7Cu"
      },
      "source": [
        "from sklearn.model_selection import train_test_split\r\n",
        "\r\n",
        "X_train, X_test, y_train, y_test = train_test_split(features, labels, test_size=0.2, random_state=10)"
      ],
      "execution_count": null,
      "outputs": []
    },
    {
      "cell_type": "markdown",
      "metadata": {
        "id": "WGHejT8tW1zB"
      },
      "source": [
        "#### Machine Learning"
      ]
    },
    {
      "cell_type": "code",
      "metadata": {
        "id": "VUT0bVcaa36g"
      },
      "source": [
        "from sklearn.linear_model import LogisticRegression\r\n",
        "from sklearn.neighbors import KNeighborsClassifier\r\n",
        "from sklearn.svm import SVC\r\n",
        "\r\n",
        "svm = SVC()\r\n",
        "knn = KNeighborsClassifier()\r\n",
        "log = LogisticRegression()"
      ],
      "execution_count": null,
      "outputs": []
    },
    {
      "cell_type": "code",
      "metadata": {
        "id": "rbB_60aIbgby"
      },
      "source": [
        "log.fit(X_train, y_train)\r\n",
        "svm.fit(X_train, y_train)\r\n",
        "knn.fit(X_train, y_train)"
      ],
      "execution_count": null,
      "outputs": []
    },
    {
      "cell_type": "code",
      "metadata": {
        "id": "oSV_qdsJ164P"
      },
      "source": [
        "0 - 0 --> parfait\r\n",
        "0 - 1 --> ghalta\r\n",
        "1 - 0 --> ghalta\r\n",
        "1 - 1 --> parfait\r\n",
        "\r\n",
        "accuracy ta3tini mesure globale ta3 9adeh jib s7i7 en total\r\n",
        "recall ta3tini mesure ta3 9adeh min 1 jibtou 0 (9adeh min malware ma chla9tich bih) <----- AHAM HAJA\r\n",
        "precision ta3tini mesure 9adeh min 0 jibtou 1 (9adeh min prog 3adi fibeli bih virus)"
      ],
      "execution_count": null,
      "outputs": []
    },
    {
      "cell_type": "code",
      "metadata": {
        "colab": {
          "base_uri": "https://localhost:8080/"
        },
        "id": "qymrGnHjbn14",
        "outputId": "56550359-d41e-4adf-b611-b4e8a314e824"
      },
      "source": [
        "log.score(X_test, y_test) #.score calculates the accuracy of the model"
      ],
      "execution_count": null,
      "outputs": [
        {
          "output_type": "execute_result",
          "data": {
            "text/plain": [
              "0.2648483303594188"
            ]
          },
          "metadata": {
            "tags": []
          },
          "execution_count": 65
        }
      ]
    },
    {
      "cell_type": "code",
      "metadata": {
        "colab": {
          "base_uri": "https://localhost:8080/"
        },
        "id": "AQ_b1U_UcBLw",
        "outputId": "9a355c66-9ee9-444d-b632-52a7b8d58bab"
      },
      "source": [
        "svm.score(X_test, y_test)"
      ],
      "execution_count": null,
      "outputs": [
        {
          "output_type": "execute_result",
          "data": {
            "text/plain": [
              "0.7392301809839409"
            ]
          },
          "metadata": {
            "tags": []
          },
          "execution_count": 66
        }
      ]
    },
    {
      "cell_type": "code",
      "metadata": {
        "colab": {
          "base_uri": "https://localhost:8080/"
        },
        "id": "VmxIGT6EcBfm",
        "outputId": "10592af7-86cc-4c43-955e-f0fec38cc02c"
      },
      "source": [
        "knn.score(X_test, y_test)"
      ],
      "execution_count": null,
      "outputs": [
        {
          "output_type": "execute_result",
          "data": {
            "text/plain": [
              "0.987254652052001"
            ]
          },
          "metadata": {
            "tags": []
          },
          "execution_count": 67
        }
      ]
    },
    {
      "cell_type": "code",
      "metadata": {
        "id": "sxqDgSYBvG-k"
      },
      "source": [
        "from sklearn.metrics import accuracy_score, precision_score, recall_score, f1_score\r\n",
        "\r\n",
        "predictions = svm.predict(X_test)"
      ],
      "execution_count": null,
      "outputs": []
    },
    {
      "cell_type": "code",
      "metadata": {
        "id": "Ga0Nm7Ib35wd"
      },
      "source": [
        "acc = accuracy_score(y_test,predictions)\r\n",
        "rec = recall_score(y_test,predictions)\r\n",
        "prec = precision_score(y_test,predictions)\r\n",
        "f1 = f1_score(y_test, predictions)"
      ],
      "execution_count": null,
      "outputs": []
    },
    {
      "cell_type": "code",
      "metadata": {
        "colab": {
          "base_uri": "https://localhost:8080/"
        },
        "id": "Tsxab8_M49_Z",
        "outputId": "468ee465-a497-40fb-e8e4-af89e4bd5d88"
      },
      "source": [
        "print(acc, rec, prec, f1) \r\n",
        "# while recall is perfect, precision 7ala meaning that the model is giving too many 1s which is not balanced"
      ],
      "execution_count": null,
      "outputs": [
        {
          "output_type": "stream",
          "text": [
            "0.7392301809839409 1.0 0.738162272843614 0.8493594463260198\n"
          ],
          "name": "stdout"
        }
      ]
    },
    {
      "cell_type": "code",
      "metadata": {
        "colab": {
          "base_uri": "https://localhost:8080/"
        },
        "id": "728JChl-4zUx",
        "outputId": "4951214f-1ee2-43e9-af1e-b5ae91954b53"
      },
      "source": [
        "print(acc, rec, prec, f1)\r\n",
        "# All values are balanced, perfect"
      ],
      "execution_count": null,
      "outputs": [
        {
          "output_type": "stream",
          "text": [
            "0.987254652052001 0.9941054091539528 0.9886206896551725 0.9913554633471646\n"
          ],
          "name": "stdout"
        }
      ]
    },
    {
      "cell_type": "code",
      "metadata": {
        "colab": {
          "base_uri": "https://localhost:8080/"
        },
        "id": "XO6-XCCc6MI2",
        "outputId": "974e1902-e622-4316-d763-fd065e3e6a18"
      },
      "source": [
        "from sklearn.metrics import classification_report\r\n",
        "# all values are balanced\r\n",
        "print(classification_report(y_test, predictions))"
      ],
      "execution_count": null,
      "outputs": [
        {
          "output_type": "stream",
          "text": [
            "              precision    recall  f1-score   support\n",
            "\n",
            "           0       0.98      0.97      0.98      1039\n",
            "           1       0.99      0.99      0.99      2884\n",
            "\n",
            "    accuracy                           0.99      3923\n",
            "   macro avg       0.99      0.98      0.98      3923\n",
            "weighted avg       0.99      0.99      0.99      3923\n",
            "\n"
          ],
          "name": "stdout"
        }
      ]
    },
    {
      "cell_type": "code",
      "metadata": {
        "colab": {
          "base_uri": "https://localhost:8080/"
        },
        "id": "kKs2BpUk6eg3",
        "outputId": "429b86ed-9778-415e-e923-e7ea1b3546ff"
      },
      "source": [
        "print(classification_report(y_test, predictions))\r\n",
        "# Recal for the non-malware label (0) is terrible, so discard SVM"
      ],
      "execution_count": null,
      "outputs": [
        {
          "output_type": "stream",
          "text": [
            "              precision    recall  f1-score   support\n",
            "\n",
            "           0       1.00      0.02      0.03      1039\n",
            "           1       0.74      1.00      0.85      2884\n",
            "\n",
            "    accuracy                           0.74      3923\n",
            "   macro avg       0.87      0.51      0.44      3923\n",
            "weighted avg       0.81      0.74      0.63      3923\n",
            "\n"
          ],
          "name": "stdout"
        }
      ]
    }
  ]
}